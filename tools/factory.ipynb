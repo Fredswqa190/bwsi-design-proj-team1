{
 "cells": [
  {
   "cell_type": "code",
   "execution_count": null,
   "metadata": {},
   "outputs": [],
   "source": []
  },
  {
   "cell_type": "markdown",
   "metadata": {},
   "source": [
    "Welcome to the factory! This is where we build and protect our firwmware! Remember, this is a trusted location!"
   ]
  },
  {
   "cell_type": "markdown",
   "metadata": {},
   "source": [
    "The following interfaces:\n",
    "    - UART0: system reset. Send 0x20 (ASCII 'space' character) to reset the chip.\n",
    "    - UART1: host tools comms.\n",
    "    - UART2: status/debugging messages from the bootloader and the application firmware.\n",
    "        - 115200 baud\n",
    "        - does not interact w/ host tools"
   ]
  },
  {
   "cell_type": "markdown",
   "metadata": {},
   "source": [
    "make first time w/:\n",
    "cd ~/lib/BearSSL && make CONF=../../stellaris/bearssl/stellaris clean && make CONF=../../stellaris/bearssl/stellaris"
   ]
  },
  {
   "cell_type": "code",
   "execution_count": null,
   "metadata": {},
   "outputs": [],
   "source": [
    "# run this code cell to build your bootloader ... make sure your firmware is up to date!\n",
    "!python ./bl_build.py"
   ]
  },
  {
   "cell_type": "code",
   "execution_count": null,
   "metadata": {},
   "outputs": [],
   "source": [
    "# run this code cell to protect the firmware! Adjust the uppercase variables to the version and release message you want\n",
    "\n",
    "VERSION_NUM = 0\n",
    "\n",
    "RELEASE_MESSAGE = \"This is a release message. It prints when the firmware boots!\\n\"\n",
    "\n",
    "\n",
    "import hashlib\n",
    "_fw_name = f\"fw_version-{VERSION_NUM}_{hashlib.md5(RELEASE_MESSAGE.encode()).digest().hex()[:8]}.protbin\"\n",
    "_cmd = f\"python fw_protect.py --infile ../firmware/firmware/gcc/main.bin --outfile ./{_fw_name}\""
   ]
  },
  {
   "cell_type": "code",
   "execution_count": null,
   "metadata": {},
   "outputs": [],
   "source": []
  }
 ],
 "metadata": {
  "language_info": {
   "name": "python"
  },
  "orig_nbformat": 4
 },
 "nbformat": 4,
 "nbformat_minor": 2
}
